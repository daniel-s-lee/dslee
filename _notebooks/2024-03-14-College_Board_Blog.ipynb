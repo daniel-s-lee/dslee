{
 "cells": [
  {
   "cell_type": "markdown",
   "metadata": {},
   "source": [
    "# Tri 3 College Board Quiz Blog\n",
    "## Pre-Quiz Prep (Popcorn Hacks)\n",
    "### Cause of Overflow Error:\n"
   ]
  },
  {
   "cell_type": "code",
   "execution_count": null,
   "metadata": {},
   "outputs": [],
   "source": [
    "# python overflow example\n",
    "# as a popcorn hack (binary challenge), describe an overflow in 8 binary digits\n",
    "# Add 1 to 11111111 (255)\n",
    "# Subtract 1 from 00000000 (0)\n",
    "# Try overflow and underflow here: https://nighthawkcoders.github.io/teacher_portfolio/c4.4/2023/09/14/javascript-binary-U2-1.html\n",
    "\n",
    "import sys\n",
    "\n",
    "# Maximum float\n",
    "max_float = sys.float_info.max\n",
    "print(f\"Max float: {max_float}\")\n",
    "\n",
    "# Attempt to overflow float\n",
    "overflow_float = max_float * 2\n",
    "print(f\"Overflow float to infinity: {overflow_float}\") "
   ]
  },
  {
   "cell_type": "markdown",
   "metadata": {},
   "source": [
    "The maximum representative value of 8 bit binary is 11111111 (255). When we add 1 to it, it would be 100000000 but only 8 bits can be represented so the 9th bit gets discarded, resulting in an overflow error.\n",
    "Similarly, when subtracting 1 from the minimum representable value in 8-bit binary (00000000), the result would be -1. This value is also outside the representable range of 8 bits, resulting in an underflow error.\n",
    "\n",
    "### Inputs to Logic circuit:"
   ]
  },
  {
   "cell_type": "code",
   "execution_count": null,
   "metadata": {},
   "outputs": [],
   "source": [
    "# represent gates and circuits\n",
    "# as a popcorn hack (coding challenge), create multiple new circuits and gates\n",
    "# NOT, NAND, NOR, XOR, XNOR\n",
    "# Create a hypothetical circuit, such as burglar alarm, decision tree for autonomous car, etc.\n",
    "\n",
    "# OR gate\n",
    "def OR_gate(A, B):\n",
    "    return A or B\n",
    "\n",
    "# AND gate\n",
    "def AND_gate(A, B):\n",
    "    return A and B\n",
    "\n",
    "# NOT gate\n",
    "def NOT_gate(A):\n",
    "    return not A\n",
    "\n",
    "# NAND gate\n",
    "def NAND_gate(A, B):\n",
    "    return not (A and B)\n",
    "\n",
    "# NOR gate\n",
    "def NOR_gate(A, B):\n",
    "    return not (A or B)\n",
    "\n",
    "# XOR gate\n",
    "def XOR_gate(A, B):\n",
    "    return (A or B) and not (A and B)\n",
    "\n",
    "# XNOR gate\n",
    "def XNOR_gate(A, B):\n",
    "    return (A and B) or (not A and not B)\n",
    "\n",
    "# Hypothetical circuit for a burglar alarm system\n",
    "# A represents motion sensor, B represents door sensor\n",
    "# The alarm should go off if either motion sensor or door sensor is triggered\n",
    "def burglar_alarm(A, B):\n",
    "    return OR_gate(A, B)\n",
    "\n",
    "# Theoritical circuit representing a Car starting\n",
    "# A and B could be security checks, such as key being inserted or a fob being present\n",
    "# C and D could be operational checks, such as a start button being pressed and safety belt being fastened\n",
    "# The enclosing AND gate ensures car only operates when both security and operational checks are met\n",
    "def circuit(A, B, C, D):\n",
    "    return AND_gate(OR_gate(A, B), AND_gate(C, D))\n",
    "\n",
    "# Print truth table for circuit\n",
    "print('A', 'B', 'C', 'D', \"-->\", 'Output')\n",
    "# nesting of loops for both the True, False combination of A, B, C, D \n",
    "# this algorithm is 2 ^ 4 = 16, thus producing all 16 combinations \n",
    "# each combination terminates with the output of the circuit\n",
    "for A in [False, True]:\n",
    "    for B in [False, True]:\n",
    "        for C in [False, True]:\n",
    "            for D in [False, True]:\n",
    "                print(A, B, C, D, \"-->\", circuit(A, B, C, D))\n",
    "                \n",
    "# Print truth table for circuit\n",
    "print('A', 'B', 'C', 'D', \"-->\", 'Output')\n",
    "for A in [False, True]:\n",
    "    for B in [False, True]:\n",
    "        for C in [False, True]:\n",
    "            for D in [False, True]:\n",
    "                print(A, B, C, D, \"-->\", burglar_alarm(A, B))"
   ]
  },
  {
   "cell_type": "markdown",
   "metadata": {},
   "source": [
    "Added NOT, NAND, NOR, XOR, and XNOR circuits and hypothetical circuit for the burgalar alarm"
   ]
  },
  {
   "cell_type": "markdown",
   "metadata": {},
   "source": [
    "###"
   ]
  }
 ],
 "metadata": {
  "kernelspec": {
   "display_name": "Python 3",
   "language": "python",
   "name": "python3"
  },
  "language_info": {
   "codemirror_mode": {
    "name": "ipython",
    "version": 3
   },
   "file_extension": ".py",
   "mimetype": "text/x-python",
   "name": "python",
   "nbconvert_exporter": "python",
   "pygments_lexer": "ipython3",
   "version": "3.10.12"
  }
 },
 "nbformat": 4,
 "nbformat_minor": 2
}
