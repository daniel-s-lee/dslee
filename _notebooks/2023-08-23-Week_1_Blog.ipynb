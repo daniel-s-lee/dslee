{
 "cells": [
  {
   "attachments": {},
   "cell_type": "markdown",
   "metadata": {},
   "source": [
    "---\n",
    "toc: true\n",
    "comments: true\n",
    "layout: post\n",
    "title: Week 1 Blog\n",
    "description: Blog about problems, solutions, and developments during the first week of APCSP\n",
    "courses: { csp: {week: 1} }\n",
    "type: hacks\n",
    "---"
   ]
  },
  {
   "attachments": {},
   "cell_type": "markdown",
   "metadata": {},
   "source": [
    "## Problems, Solutions, and Improvements\n",
    "During the first week of this class, I faced a variety of challenges due to my unfamiliarity with certain tools. For example, at first I didn't know how to set up github pages or how to push, pull, and commit on github and VScode. I also didn't have much experince using Power Shell on my computer or dowloading so many different tools. However, with the help of my classmates and partners, I was able to figure out how to work these things and got more comfortable in these areas. I have improved in my familiarity with VScode, github pages, wiritng blogs, and overall have a better idea on how I set up a good environment for the class. "
   ]
  },
  {
   "cell_type": "markdown",
   "metadata": {},
   "source": [
    "# A Little Python\n",
    "Below is just a simple wight converter that changes pounds to kilograms. I included it just to practice adding bits of code into my blogs. "
   ]
  },
  {
   "cell_type": "code",
   "execution_count": 1,
   "metadata": {},
   "outputs": [
    {
     "name": "stdout",
     "output_type": "stream",
     "text": [
      "63.0\n"
     ]
    }
   ],
   "source": [
    "weight_lbs = input('Weight (lbs): ')\n",
    "weight_kg = int(weight_lbs) * 0.45\n",
    "print(weight_kg)"
   ]
  },
  {
   "cell_type": "code",
   "execution_count": 4,
   "metadata": {},
   "outputs": [
    {
     "name": "stdout",
     "output_type": "stream",
     "text": [
      "Options:\n",
      "Enter 'add' for addition\n",
      "Enter 'subtract' for subtraction\n",
      "Enter 'multiply' for multiplication\n",
      "Enter 'divide' for division\n",
      "Enter 'quit' to end the program\n",
      "Result: 3.0\n",
      "Options:\n",
      "Enter 'add' for addition\n",
      "Enter 'subtract' for subtraction\n",
      "Enter 'multiply' for multiplication\n",
      "Enter 'divide' for division\n",
      "Enter 'quit' to end the program\n",
      "Invalid input\n",
      "Options:\n",
      "Enter 'add' for addition\n",
      "Enter 'subtract' for subtraction\n",
      "Enter 'multiply' for multiplication\n",
      "Enter 'divide' for division\n",
      "Enter 'quit' to end the program\n",
      "Result: 25.0\n",
      "Options:\n",
      "Enter 'add' for addition\n",
      "Enter 'subtract' for subtraction\n",
      "Enter 'multiply' for multiplication\n",
      "Enter 'divide' for division\n",
      "Enter 'quit' to end the program\n"
     ]
    }
   ],
   "source": [
    "# Function to perform addition\n",
    "def add(x, y):\n",
    "    return x + y\n",
    "# Function to perform subtraction\n",
    "def subtract(x, y):\n",
    "    return x - y\n",
    "# Function to perform multiplication\n",
    "def multiply(x, y):\n",
    "    return x * y\n",
    "# Function to perform division\n",
    "def divide(x, y):\n",
    "    if y == 0:\n",
    "        return \"Cannot divide by zero\"\n",
    "    return x / y\n",
    "# Main calculator loop\n",
    "while True:\n",
    "    print(\"Options:\")\n",
    "    print(\"Enter 'add' for addition\")\n",
    "    print(\"Enter 'subtract' for subtraction\")\n",
    "    print(\"Enter 'multiply' for multiplication\")\n",
    "    print(\"Enter 'divide' for division\")\n",
    "    print(\"Enter 'quit' to end the program\")\n",
    "    user_input = input(\": \")\n",
    "    if user_input == \"quit\":\n",
    "        break\n",
    "    elif user_input in [\"add\", \"subtract\", \"multiply\", \"divide\"]:\n",
    "        num1 = float(input(\"Enter first number: \"))\n",
    "        num2 = float(input(\"Enter second number: \"))\n",
    "        if user_input == \"add\":\n",
    "            print(\"Result: \" + str(add(num1, num2)))\n",
    "        elif user_input == \"subtract\":\n",
    "            print(\"Result: \" + str(subtract(num1, num2)))\n",
    "        elif user_input == \"multiply\":\n",
    "            print(\"Result: \" + str(multiply(num1, num2)))\n",
    "        elif user_input == \"divide\":\n",
    "            print(\"Result: \" + str(divide(num1, num2)))\n",
    "    else:\n",
    "        print(\"Invalid input\")"
   ]
  },
  {
   "cell_type": "code",
   "execution_count": 2,
   "metadata": {},
   "outputs": [
    {
     "name": "stdout",
     "output_type": "stream",
     "text": [
      "add function passed\n",
      "subtract function passed\n",
      "multiply function passed\n",
      "divide function passed\n",
      "divide function error handling passed: Cannot divide by zero\n"
     ]
    }
   ],
   "source": [
    "def add(a, b):\n",
    "    return a + b\n",
    "\n",
    "def subtract(a, b):\n",
    "    return a - b\n",
    "\n",
    "def multiply(a, b):\n",
    "    return a * b\n",
    "\n",
    "def divide(a, b):\n",
    "    if b == 0:\n",
    "        raise ValueError(\"Cannot divide by zero\")\n",
    "    return a / b\n",
    "\n",
    "def tester():\n",
    "    # Test the 'add' function\n",
    "    result = add(2, 3)\n",
    "    expected = 5\n",
    "    if result == expected:\n",
    "        print(\"add function passed\")\n",
    "    else:\n",
    "        print(f\"add function failed: expected {expected}, got {result}\")\n",
    "\n",
    "    # Test the 'subtract' function\n",
    "    result = subtract(5, 2)\n",
    "    expected = 3\n",
    "    if result == expected:\n",
    "        print(\"subtract function passed\")\n",
    "    else:\n",
    "        print(f\"subtract function failed: expected {expected}, got {result}\")\n",
    "\n",
    "    # Test the 'multiply' function\n",
    "    result = multiply(4, 6)\n",
    "    expected = 24\n",
    "    if result == expected:\n",
    "        print(\"multiply function passed\")\n",
    "    else:\n",
    "        print(f\"multiply function failed: expected {expected}, got {result}\")\n",
    "\n",
    "    # Test the 'divide' function\n",
    "    result = divide(8, 2)\n",
    "    expected = 4\n",
    "    if result == expected:\n",
    "        print(\"divide function passed\")\n",
    "    else:\n",
    "        print(f\"divide function failed: expected {expected}, got {result}\")\n",
    "\n",
    "    # Test divide by zero error handling\n",
    "    try:\n",
    "        divide(5, 0)\n",
    "        print(\"divide function error handling failed\")\n",
    "    except ValueError as e:\n",
    "        print(f\"divide function error handling passed: {e}\")\n",
    "\n",
    "# Call the tester function to run the tests\n",
    "tester()\n"
   ]
  },
  {
   "attachments": {},
   "cell_type": "markdown",
   "metadata": {},
   "source": []
  }
 ],
 "metadata": {
  "kernelspec": {
   "display_name": "base",
   "language": "python",
   "name": "python3"
  },
  "language_info": {
   "codemirror_mode": {
    "name": "ipython",
    "version": 3
   },
   "file_extension": ".py",
   "mimetype": "text/x-python",
   "name": "python",
   "nbconvert_exporter": "python",
   "pygments_lexer": "ipython3",
   "version": "3.10.12"
  },
  "orig_nbformat": 4
 },
 "nbformat": 4,
 "nbformat_minor": 2
}
