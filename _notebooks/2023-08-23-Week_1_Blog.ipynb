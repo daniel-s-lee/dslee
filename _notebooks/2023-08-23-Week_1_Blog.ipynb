{
 "cells": [
  {
   "attachments": {},
   "cell_type": "markdown",
   "metadata": {},
   "source": [
    "---\n",
    "toc: true\n",
    "comments: true\n",
    "layout: post\n",
    "title: Week 1 Blog\n",
    "description: Blog about problems, solutions, and developments during the first week of APCSP\n",
    "courses: { csp: {week: 1} }\n",
    "type: hacks\n",
    "---"
   ]
  },
  {
   "attachments": {},
   "cell_type": "markdown",
   "metadata": {},
   "source": [
    "## Problems, Solutions, and Improvements\n",
    "During the first week of this class, I faced a variety of challenges due to my unfamiliarity with certain tools. For example, at first I didn't know how to set up github pages or how to push, pull, and commit on github and VScode. I also didn't have much experince using Power Shell on my computer or dowloading so many different tools. However, with the help of my classmates and partners, I was able to figure out how to work these things and got more comfortable in these areas. I have improved in my familiarity with VScode, github pages, wiritng blogs, and overall have a better idea on how I set up a good environment for the class. "
   ]
  },
  {
   "cell_type": "markdown",
   "metadata": {},
   "source": [
    "# A Little Python\n",
    "Below is just a simple wight converter that changes pounds to kilograms. I included it just to practice adding bits of code into my blogs. "
   ]
  },
  {
   "cell_type": "code",
   "execution_count": null,
   "metadata": {},
   "outputs": [],
   "source": [
    "weight_lbs = input('Weight (lbs): ')\n",
    "weight_kg = int(weight_lbs) * 0.45\n",
    "print(weight_kg)"
   ]
  },
  {
   "attachments": {},
   "cell_type": "markdown",
   "metadata": {},
   "source": []
  }
 ],
 "metadata": {
  "kernelspec": {
   "display_name": "base",
   "language": "python",
   "name": "python3"
  },
  "language_info": {
   "codemirror_mode": {
    "name": "ipython",
    "version": 3
   },
   "file_extension": ".py",
   "mimetype": "text/x-python",
   "name": "python",
   "nbconvert_exporter": "python",
   "pygments_lexer": "ipython3",
   "version": "3.9.12"
  },
  "orig_nbformat": 4
 },
 "nbformat": 4,
 "nbformat_minor": 2
}
