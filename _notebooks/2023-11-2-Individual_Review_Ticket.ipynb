{
 "cells": [
  {
   "cell_type": "markdown",
   "metadata": {},
   "source": [
    "---\n",
    "toc: true\n",
    "comments: true\n",
    "layout: post\n",
    "title: Individual Review Ticket\n",
    "description: Individual overview of trimester 1 involving key involvements in Passion Project and AP practice quiz\n",
    "type: tangibles\n",
    "courses: { csp: {week: 11} }\n",
    "---\n"
   ]
  },
  {
   "cell_type": "markdown",
   "metadata": {},
   "source": [
    "# Key Involvements in Group Project\n",
    "As our final project, me and my team decided to create a geoguesser inspired game of Del Norte. Once you get to the website, you would have to press the start button in order to get to the game where you would be shown an image of a classroom or other part of our school and you would have to click on the Del Norte map where you think the location is. If you get it right you get one point, if wrong you get zero points. In this project I had many key involvements.\n",
    "\n",
    "## Frontend\n",
    "As a frontend developer, my job was to create a simple and quality user experience for our game. By conducting various tests I was able to find any small inconvieniences and problems that our website and game had. With positive feedbakc from peers and the assistance of my teammates, I was able to work together to solve many problems. All eventually leading to a scuccessful game. \n",
    "\n",
    "## Backend \n",
    "I tried to help when they needed it\n",
    "\n",
    "### Key commits\n",
    "[First Map Design](https://github.com/rliao569/Frontend-CSP/commit/3d67c9ed7a776a73be923b1918415e2aa56be7cd)\n",
    "The first ever draft of what our game would look like and would eventually be the design we go with for our final project. \n",
    "\n",
    "[First Coordinate Implementation](https://github.com/rliao569/Frontend-CSP/commit4be22efe239dd65f6bba2025e964b9cee5ed64a5)\n",
    "This would be the first coordinate system made of javascript so that we can scale the image properly and be able to but the buttons in more precise locations\n",
    "\n",
    "[Random Button Positions](https://github.com/rliao569/Frontend-CSP/commit/df3259c5bf6bee6ab5703a864060c0141c24736d)\n",
    "I added a change to our code that would store where the button last appeared and made sure that the user would not get the same location twice in a row\n",
    "\n",
    "### Issue\n",
    "[Double Message Pop-Up](https://github.com/rliao569/Frontend-CSP/issues/5)\n",
    "Very inconvenient porblem in our game that lowered user experience, however the fix was very simple and eneded up being an important part of improving quality of our game\n",
    "\n",
    "# College Borad Quiz\n",
    "## Questions I Got Wrong\n",
    "Question 8: Metadata About Photos\n",
    "I got thiquestion wrong because I misunderstood the data provided. I thought that the data would be able to provide the anme of the person that took the most recent photo however, it the data provided would not be able to. So the correct answer was the the data could only provide the particular geographic location and and the number of photos that were taken in the last year. \n",
    "\n",
    "Question 24: Compression by replacing TH and IS with Characters\n",
    "I got this question wrong because I didn't understand why Byte pair encoding is an example of lossless transformation. Specifically what lossless transformation is. Orginally, I my answer said that byte pair encoding is a lossless transformation because it could be used to transmit imformation securely but now I understand that it's because the encoded string could be reverted back to the original form by replacing the symbols with TH or IS. \n",
    "\n",
    "Question 25: Shortening string by replacing TH and IS\n",
    "I got this question wrong because I still didn't understand that byte pair encoding is. Byte pair encoding is only possible when a pair of characters show up more than once. So the answer I chose (BANANA) was wrong because the character pair AN could be replaced with a symbol like \"*\" to shorten it. So my answer was wrong and the correct answer was LEVEL_UP because this word is not able to be shortened because a pair of character don't repeat more than once. \n",
    "\n",
    "Question 29: Diagram with Three Logic Gates\n",
    "I got this question wrong because I didn't have a full understanding of how logic gates worked. I didn't understand what type of output the AND and OR gates would produce. After some research on how Logic gates worked, I learned that the the correct answer is correct because the AND gate would produce false, and the first OR gate would also produce false. Because both the outputs in the second OR gate would be false, the circuit will have an output of false. \n",
    "\n",
    "Question 64: Cloud Computing and the Internet\n",
    "I got one out of two of the correct answers for this question. The one I got wrong is wrong because cloud computing did not affect internet communication by eliminating the need to provide redundancy in Internet routing. Redundant routing provides false tolerance, which enables a cloud storage site to continue to operateif some part of the network fails. So this answer is wrong. The correct answer is correct because cloud computing sites must consider security concerns in order to protect their users' private data. So cloud computing has affected Internet communication because cloud computing has introduced new data security concerns. \n"
   ]
  }
 ],
 "metadata": {
  "language_info": {
   "name": "python"
  }
 },
 "nbformat": 4,
 "nbformat_minor": 2
}
