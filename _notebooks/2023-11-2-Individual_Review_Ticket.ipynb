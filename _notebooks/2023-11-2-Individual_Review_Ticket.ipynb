{
 "cells": [
  {
   "cell_type": "markdown",
   "metadata": {},
   "source": [
    "---\n",
    "toc: true\n",
    "comments: true\n",
    "layout: post\n",
    "title: Individual Review Ticket\n",
    "description: Individual overview of trimester 1 involving key involvements in Passion Project and AP practice quiz\n",
    "type: tangibles\n",
    "courses: { csp: {week: 11} }\n",
    "---\n"
   ]
  },
  {
   "cell_type": "markdown",
   "metadata": {},
   "source": [
    "# Key Involvements in Group Project\n",
    "As our final project, me and my team decided to create a geoguesser inspired game of Del Norte. Once you get to the website, you would have to press the start button in order to get to the game where you would be shown an image of a classroom or other part of our school and you would have to click on the Del Norte map where you think the location is. If you get it right you get one point, if wrong you get zero points. In this project I had many key involvements.\n",
    "\n",
    "## Frontend\n",
    "Engaging in frontend development and collaborating closely with my teammates has been a profoundly enriching experience that has allowed me to witness the power of effective teamwork. As a member of the frontend development team, my primary focus was on crafting user interfaces that seamlessly combined functionality and aesthetics. I actively participated in design discussions, providing valuable insights and ideas to enhance the user experience. My contributions extended beyond individual coding tasks; I embraced collaboration by engaging in regular code reviews, offering constructive feedback, and incorporating suggestions from my peers. This collaborative atmosphere not only accelerated the development process but also cultivated a sense of shared ownership and pride in our work. We navigated through challenges together, brainstorming innovative solutions and learning from one another in the process. Through this journey, I came to appreciate the strength that diversity of thought brings to a team, as each teammate brought their unique skills and perspectives to the table. Our collective efforts resulted in the successful delivery of a frontend that not only met but exceeded expectations, highlighting the significance of teamwork in achieving outstanding outcomes in the realm of frontend development.\n",
    "\n",
    "## Backend\n",
    "In collaborating with backend developers to test an API, I found the experience both rewarding and enlightening. Working closely with the development team, I played a pivotal role in ensuring the reliability and functionality of the API. Our collaboration involved creating and executing comprehensive test cases, scrutinizing various endpoints, and validating data integrity. Through this process, I gained a deeper understanding of the intricacies of the API and its interactions with different components. The close communication with backend developers allowed for a seamless exchange of insights and prompt issue resolution. This hands-on involvement not only sharpened my testing skills but also fostered a sense of teamwork and shared responsibility. As we collectively navigated through potential challenges, I realized the significance of a collaborative approach in delivering a robust and efficient API. This experience underscored the importance of effective communication and mutual understanding between testing and development teams, ultimately contributing to the overall success of the project.\n",
    "\n",
    "## Key commits\n",
    "[First Map Design](https://github.com/rliao569/Frontend-CSP/commit/3d67c9ed7a776a73be923b1918415e2aa56be7cd)\n",
    "The first ever draft of what our game would look like and would eventually be the design we go with for our final project. \n",
    "\n",
    "[First Coordinate Implementation](https://github.com/rliao569/Frontend-CSP/commit/4be22efe239dd65f6bba2025e964b9cee5ed64a5)\n",
    "This would be the first coordinate system made of javascript so that we can scale the image properly and be able to but the buttons in more precise locations\n",
    "\n",
    "[Random Button Positions](https://github.com/rliao569/Frontend-CSP/commit/df3259c5bf6bee6ab5703a864060c0141c24736d)\n",
    "I added a change to our code that would store where the button last appeared and made sure that the user would not get the same location twice in a row\n",
    "\n",
    "[First Output of Map](https://github.com/rliao569/Frontend-CSP/commit/a077f230efcb28a027fdcdce828297098ea840d4)\n",
    "At first our frontend was only running code on external websites and code testers and this was the first time me and my teammates implemented it so that it would actually work on a local host and on our server. \n",
    "### Issue\n",
    "[Double Message Pop-Up](https://github.com/rliao569/Frontend-CSP/issues/5)\n",
    "Very inconvenient porblem in our game that lowered user experience, however the fix was very simple and eneded up being an important part of improving quality of our game\n",
    "\n",
    "## Night at the Museum Grading\n",
    "Austins Group:\n",
    "Had a functional weather app was very unique didnt see any other projects like it, unfortunately they didnt get up their feature’s due to the backend crash so I cannot grade it\n",
    "It was made supposedly using a weather api that they called from and then utilizing it they were able to predict weather trend’s and then using a seperate api that they had built in thier fronted they were able to display the temperature actively.(3.8) because its very unique but isnt as hard to implement very cool to display\n",
    "Had a very nice UI and was definitely something I would be willing to use, especially if it worked with the 5 year prediction graph of weather 1/1\n",
    "Overall I would give it a 4.8/5 I excluded key features because a lot of it wasnt working unfortunately due to the backend crash.\n",
    "\n",
    "Hanlun’s Group:\n",
    "I thought it was very unique how they were able to get chess up and working specifically through Yeongsu Demo was relatively elegant. Unfortunately it was extremely laggy at the event but in class I was able to view it and it worked amazing so I would give it a 4/4. The Whisp chatting system was also very elegant with it looking like discord or similar and having a nice UI that I could see myself using. So overall I give it a 4/4.\n",
    "I would say the how it was made is also unique because its able to communicate move changes to aws via post requests and then using get requests displays the move on the other user’s side to make a functional chess game which I think is super unique. And the whisp I think its cool how they are able to edit the database by typing in a url which allows them to clear it allowing for a nice set of moderation etc. (4/4)\n",
    "I would say applicationally its a 0.8 because I dont think the whisp is good enough without some key features like user managament etc. But the chess game is very well developed and usable.\n",
    "Overall I would give it a 8.8/9\n",
    "\n",
    "Advik’s Group:\n",
    "I thought the appeal was funny had a clear group they were attending to, made a nice hook with a breaking bad theme. I also thought the song finder concept was good although it didnt work because the server crashed and the breaking bad simulator was also pretty fun and hilarious to look at 4/4.\n",
    "I think the knowledge is also pretty cool with them housing a backend, that effectively communicated with their frontend for there music, which was unable to work but with there code you could see the get requests working effectively. So I would give it a 4/4.\n",
    "I think that the usability of it is where the project again lack’s because the UI is not done extremely well, which I think can be fixed with some more focus on frontend over features. However I do like that it does work so with some touchup it could be amazing. 0.7/1\n",
    "I would give it in all a 8.7/9\n",
    "\n",
    "## Improvements that could be made\n",
    "Although our prject turned out well, there were still improvements that we as a team could have done: \n",
    "One was collaboration during presentations. When we presentented our project and other assignments lots of times one person would be the main speaker and presenter when we should have got everyone to speak and contribute to the presentation. This is something that all of us should remember and carry on into the next rimester to ensure success and better learning. \n",
    "Another aspect of our project specifically that we should have done is to add more features that would make our game more aimed towrds a general audience instead of a specific group of people. Having a lerger target audience allows us to make code that is relevant and beneficial to everyone and allows us to make better code. \n"
   ]
  },
  {
   "cell_type": "markdown",
   "metadata": {},
   "source": [
    "# Psuedo Code\n",
    "![pic](https://runestone.academy/ns/books/published/mobilecsp/_static/assets/img/Q18SquareQuestion.png)"
   ]
  },
  {
   "cell_type": "code",
   "execution_count": null,
   "metadata": {},
   "outputs": [],
   "source": [
    "# your code here\n",
    "PROCEDURE movetoarea {\n",
    "    #uses iteration to repeat the task multiple times\n",
    "    REPEAT 2 TIMES {\n",
    "        MOVE_FORWARD()\n",
    "        #moves the traingle forward two times\n",
    "    }\n",
    "    \n",
    "    ROTATE_RIGHT()\n",
    "    # turns the traingle clockwise to the right one time\n",
    "    #moves the traingle to the next location it needs to go in order to reach the destination\n",
    "    REPEAT 4 TIMES {\n",
    "        MOVE_FORWARD()\n",
    "    }\n",
    "    #turns the trangle one more time counterclockwise to the left a final time\n",
    "    ROTATE_LEFT()\n",
    "    #moves forward to the final destination\n",
    "    REPEAT 2 TIMES{\n",
    "        MOVE_FORWARD()\n",
    "    }\n",
    "}"
   ]
  },
  {
   "cell_type": "markdown",
   "metadata": {},
   "source": [
    "## College Board MCQ\n",
    "\n",
    "### Questions I Got Wrong\n",
    "Question 8: Metadata About Photos\n",
    "I got thiquestion wrong because I misunderstood the data provided. I thought that the data would be able to provide the anme of the person that took the most recent photo however, it the data provided would not be able to. So the correct answer was the the data could only provide the particular geographic location and and the number of photos that were taken in the last year. \n",
    "\n",
    "Question 24: Compression by replacing TH and IS with Characters\n",
    "I got this question wrong because I didn't understand why Byte pair encoding is an example of lossless transformation. Specifically what lossless transformation is. Orginally, I my answer said that byte pair encoding is a lossless transformation because it could be used to transmit imformation securely but now I understand that it's because the encoded string could be reverted back to the original form by replacing the symbols with TH or IS. \n",
    "\n",
    "Question 25: Shortening string by replacing TH and IS\n",
    "I got this question wrong because I still didn't understand that byte pair encoding is. Byte pair encoding is only possible when a pair of characters show up more than once. So the answer I chose (BANANA) was wrong because the character pair AN could be replaced with a symbol like \"*\" to shorten it. So my answer was wrong and the correct answer was LEVEL_UP because this word is not able to be shortened because a pair of character don't repeat more than once. \n",
    "\n",
    "Question 29: Diagram with Three Logic Gates\n",
    "I got this question wrong because I didn't have a full understanding of how logic gates worked. I didn't understand what type of output the AND and OR gates would produce. After some research on how Logic gates worked, I learned that the the correct answer is correct because the AND gate would produce false, and the first OR gate would also produce false. Because both the outputs in the second OR gate would be false, the circuit will have an output of false. \n",
    "\n",
    "Question 64: Cloud Computing and the Internet\n",
    "I got one out of two of the correct answers for this question. The one I got wrong is wrong because cloud computing did not affect internet communication by eliminating the need to provide redundancy in Internet routing. Redundant routing provides false tolerance, which enables a cloud storage site to continue to operateif some part of the network fails. So this answer is wrong. The correct answer is correct because cloud computing sites must consider security concerns in order to protect their users' private data. So cloud computing has affected Internet communication because cloud computing has introduced new data security concerns. "
   ]
  }
 ],
 "metadata": {
  "language_info": {
   "name": "python"
  }
 },
 "nbformat": 4,
 "nbformat_minor": 2
}
