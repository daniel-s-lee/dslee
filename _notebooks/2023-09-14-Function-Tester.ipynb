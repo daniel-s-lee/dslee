{
 "cells": [
  {
   "cell_type": "markdown",
   "metadata": {},
   "source": [
    "--- \n",
    "toc: True\n",
    "comments: True\n",
    "layout: post\n",
    "title: Function Tester\n",
    "description: \n",
    "courses: {'csp': {'week': 4}}\n",
    "type: tangibles\n",
    "---"
   ]
  },
  {
   "cell_type": "markdown",
   "metadata": {},
   "source": [
    "## The Function\n",
    "This is the calculator function that the the function tester tests. The testing code below will tests whether the addition, multiplication, subtraction, and division symbols will work the way they're supposed to. You can use the same type of function tester to test a number of other functions."
   ]
  },
  {
   "cell_type": "code",
   "execution_count": 1,
   "metadata": {},
   "outputs": [],
   "source": [
    "# Function to perform addition\n",
    "def add(x, y):\n",
    "    return x + y\n",
    "# Function to perform subtraction\n",
    "def subtract(x, y):\n",
    "    return x - y\n",
    "# Function to perform multiplication\n",
    "def multiply(x, y):\n",
    "    return x * y\n",
    "# Function to perform division\n",
    "def divide(x, y):\n",
    "    if y == 0:\n",
    "        return \"Cannot divide by zero\"\n",
    "    return x / y\n",
    "# Main calculator loop\n",
    "while True:\n",
    "    print(\"Options:\")\n",
    "    print(\"Enter 'add' for addition\")\n",
    "    print(\"Enter 'subtract' for subtraction\")\n",
    "    print(\"Enter 'multiply' for multiplication\")\n",
    "    print(\"Enter 'divide' for division\")\n",
    "    print(\"Enter 'quit' to end the program\")\n",
    "    user_input = input(\": \")\n",
    "    if user_input == \"quit\":\n",
    "        break\n",
    "    elif user_input in [\"add\", \"subtract\", \"multiply\", \"divide\"]:\n",
    "        num1 = float(input(\"Enter first number: \"))\n",
    "        num2 = float(input(\"Enter second number: \"))\n",
    "        if user_input == \"add\":\n",
    "            print(\"Result: \" + str(add(num1, num2)))\n",
    "        elif user_input == \"subtract\":\n",
    "            print(\"Result: \" + str(subtract(num1, num2)))\n",
    "        elif user_input == \"multiply\":\n",
    "            print(\"Result: \" + str(multiply(num1, num2)))\n",
    "        elif user_input == \"divide\":\n",
    "            print(\"Result: \" + str(divide(num1, num2)))\n",
    "    else:\n",
    "        print(\"Invalid input\")"
   ]
  },
  {
   "cell_type": "code",
   "execution_count": 2,
   "metadata": {},
   "outputs": [
    {
     "name": "stdout",
     "output_type": "stream",
     "text": [
      "add function passed\n",
      "subtract function passed\n",
      "multiply function passed\n",
      "divide function passed\n",
      "divide function error handling passed: Cannot divide by zero\n"
     ]
    }
   ],
   "source": [
    "def add(a, b):\n",
    "    return a + b\n",
    "\n",
    "def subtract(a, b):\n",
    "    return a - b\n",
    "\n",
    "def multiply(a, b):\n",
    "    return a * b\n",
    "\n",
    "def divide(a, b):\n",
    "    if b == 0:\n",
    "        raise ValueError(\"Cannot divide by zero\")\n",
    "    return a / b\n",
    "\n",
    "def tester():\n",
    "    # Test the 'add' function\n",
    "    result = add(2, 3)\n",
    "    expected = 5\n",
    "    if result == expected:\n",
    "        print(\"add function passed\")\n",
    "    else:\n",
    "        print(f\"add function failed: expected {expected}, got {result}\")\n",
    "\n",
    "    # Test the 'subtract' function\n",
    "    result = subtract(5, 2)\n",
    "    expected = 3\n",
    "    if result == expected:\n",
    "        print(\"subtract function passed\")\n",
    "    else:\n",
    "        print(f\"subtract function failed: expected {expected}, got {result}\")\n",
    "\n",
    "    # Test the 'multiply' function\n",
    "    result = multiply(4, 6)\n",
    "    expected = 24\n",
    "    if result == expected:\n",
    "        print(\"multiply function passed\")\n",
    "    else:\n",
    "        print(f\"multiply function failed: expected {expected}, got {result}\")\n",
    "\n",
    "    # Test the 'divide' function\n",
    "    result = divide(8, 2)\n",
    "    expected = 4\n",
    "    if result == expected:\n",
    "        print(\"divide function passed\")\n",
    "    else:\n",
    "        print(f\"divide function failed: expected {expected}, got {result}\")\n",
    "\n",
    "    # Test divide by zero error handling\n",
    "    try:\n",
    "        divide(5, 0)\n",
    "        print(\"divide function error handling failed\")\n",
    "    except ValueError as e:\n",
    "        print(f\"divide function error handling passed: {e}\")\n",
    "\n",
    "# Call the tester function to run the tests\n",
    "tester()\n"
   ]
  },
  {
   "cell_type": "markdown",
   "metadata": {},
   "source": [
    "## More Functions and the tester\n",
    "Below also tests a list and iterator function \n"
   ]
  },
  {
   "cell_type": "code",
   "execution_count": 8,
   "metadata": {},
   "outputs": [
    {
     "name": "stdout",
     "output_type": "stream",
     "text": [
      "/nProgram with a List and Iterator\n",
      "apple\n",
      "banana\n",
      "cherry\n"
     ]
    }
   ],
   "source": [
    "# Program with Iteration through a List\n",
    "print(\"/nProgram with a List and Iterator\")\n",
    "fruits = [\"apple\", \"banana\", \"cherry\"]\n",
    "for i in fruits:\n",
    "    print (i)\n"
   ]
  },
  {
   "cell_type": "code",
   "execution_count": 4,
   "metadata": {},
   "outputs": [
    {
     "name": "stdout",
     "output_type": "stream",
     "text": [
      "test passed\n",
      "Program with a List and Iterator\n",
      "apple\n",
      "banana\n",
      "cherry\n"
     ]
    }
   ],
   "source": [
    "\n",
    "def test_fruit_iteration():\n",
    "    print(\"Program with a List and Iterator\")\n",
    "    fruits = [\"apple\", \"banana\", \"cherry\"]\n",
    "    for i in fruits:\n",
    "        print(i)\n",
    "\n",
    "#Test passed message\n",
    "print(\"test passed\")\n",
    "\n",
    "# Call the function to test the code\n",
    "test_fruit_iteration()\n"
   ]
  },
  {
   "cell_type": "markdown",
   "metadata": {},
   "source": [
    "## EVEN MORE\n",
    "another function and a tester for a calculator"
   ]
  },
  {
   "cell_type": "code",
   "execution_count": 5,
   "metadata": {},
   "outputs": [
    {
     "name": "stdout",
     "output_type": "stream",
     "text": [
      "\n",
      "Program with a Function for Calculation\n",
      "Average: 20.0\n"
     ]
    }
   ],
   "source": [
    "# Program with a Function to perform mathematical and/or statistical calculations\n",
    "print(\"\\nProgram with a Function for Calculation\")\n",
    "def calculate_average(numbers):\n",
    "    total = sum(numbers)\n",
    "    average = total / len(numbers)\n",
    "    return average\n",
    "data = [10, 15, 20, 25, 30]\n",
    "avg = calculate_average(data)\n",
    "print(\"Average:\", avg)"
   ]
  },
  {
   "cell_type": "code",
   "execution_count": 11,
   "metadata": {},
   "outputs": [
    {
     "name": "stdout",
     "output_type": "stream",
     "text": [
      "All test cases passed!\n"
     ]
    }
   ],
   "source": [
    "def test_calculate_average():\n",
    "    # Test case 1: Test with a list of positive integers\n",
    "    data1 = [10, 15, 20, 25, 30]\n",
    "    result1 = calculate_average(data1)\n",
    "    expected1 = 20.0  # The average of these numbers is 20.0\n",
    "    assert result1 == expected1, f\"Expected {expected1}, but got {result1}\"\n",
    "\n",
    "    # Test case 2: Test with a list of negative integers\n",
    "    data2 = [-5, -10, -15, -20, -25]\n",
    "    result2 = calculate_average(data2)\n",
    "    expected2 = -15.0  # The average of these numbers is -15.0\n",
    "    assert result2 == expected2, f\"Expected {expected2}, but got {result2}\"\n",
    "\n",
    "    print(\"All test cases passed!\")\n",
    "\n",
    "# Call the tester function\n",
    "test_calculate_average()\n",
    "\n",
    "  \n"
   ]
  }
 ],
 "metadata": {
  "kernelspec": {
   "display_name": "Python 3",
   "language": "python",
   "name": "python3"
  },
  "language_info": {
   "codemirror_mode": {
    "name": "ipython",
    "version": 3
   },
   "file_extension": ".py",
   "mimetype": "text/x-python",
   "name": "python",
   "nbconvert_exporter": "python",
   "pygments_lexer": "ipython3",
   "version": "3.10.12"
  },
  "orig_nbformat": 4
 },
 "nbformat": 4,
 "nbformat_minor": 2
}
