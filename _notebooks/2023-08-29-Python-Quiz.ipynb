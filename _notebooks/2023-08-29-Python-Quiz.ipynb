{
 "cells": [
  {
   "cell_type": "markdown",
   "metadata": {},
   "source": [
    "---\n",
    "toc: true\n",
    "comments: true\n",
    "layout: post\n",
    "title: Python Quiz\n",
    "description: Python quiz\n",
    "courses: { csp: {week: 2} }\n",
    "type: hacks\n",
    "---"
   ]
  },
  {
   "cell_type": "markdown",
   "metadata": {},
   "source": [
    "# Python Quiz\n",
    "This quiz will test your knowledge of the key vocabulary from the Jupyter document this quiz came from. Below you'll see a version of the original code I modified in order to make more concise and simple. "
   ]
  },
  {
   "cell_type": "code",
   "execution_count": 1,
   "metadata": {},
   "outputs": [
    {
     "name": "stdout",
     "output_type": "stream",
     "text": [
      "Hello, dslee187 running /bin/python\n",
      "You will be asked 3 questions.\n",
      "Question: Are you ready to take a test?\n"
     ]
    },
    {
     "name": "stdout",
     "output_type": "stream",
     "text": [
      "Question: What command is used to include other functions that were previously developed?\n",
      "import is correct!\n",
      "Question: What command is used to evaluate correct or incorrect response in this example?\n",
      "if is correct!\n",
      "Question: Each 'if' command contains an '_________' to determine a true or false condition?\n",
      "expression is correct!\n",
      "dslee187, you scored 3/3 (100.00%)\n"
     ]
    }
   ],
   "source": [
    "import getpass, sys\n",
    "# new function returns a boolean value that determines whether or not the answer is right. Eliminates the need for if else blocks to check answers\n",
    "def question_with_response(prompt, answer):\n",
    "    print(\"Question:\", prompt)\n",
    "    msg = input()\n",
    "    return msg == answer\n",
    "# I put the questions and asnwers in a list and their corresponding answers as tuples. This gets rid of the use of rsp which was very repetitive in the original code\n",
    "questions = [\n",
    "    (\"What command is used to include other functions that were previously developed?\", \"import\"),\n",
    "    (\"What command is used to evaluate correct or incorrect response in this example?\", \"if\"),\n",
    "    (\"Each 'if' command contains an '_________' to determine a true or false condition?\", \"expression\")\n",
    "]\n",
    "\n",
    "correct = 0\n",
    "# I used F strings to format this message to make the strings below much more concise and so that there's no need to insert the pluses\n",
    "print(f'Hello, {getpass.getuser()} running {sys.executable}')\n",
    "print(f'You will be asked {len(questions)} questions.')\n",
    "question_with_response(\"Are you ready to take a test?\", \"yes\")\n",
    "# Here, instead of the repetitive if else block, I put everything in a loop that goes through each question in the list.\n",
    "for prompt, answer in questions:\n",
    "    if question_with_response(prompt, answer):\n",
    "        print(f'{answer} is correct!')\n",
    "        correct += 1\n",
    "    else:\n",
    "        print(f'{answer} is incorrect!')\n",
    "# You can calculate the score using len(questions) and the function labled as the variable percentage\n",
    "total_questions = len(questions)\n",
    "percentage = (correct / total_questions) * 100\n",
    "print(f'{getpass.getuser()}, you scored {correct}/{total_questions} ({percentage:.2f}%)')\n",
    "\n",
    "\n",
    "\n"
   ]
  }
 ],
 "metadata": {
  "kernelspec": {
   "display_name": "Python 3",
   "language": "python",
   "name": "python3"
  },
  "language_info": {
   "codemirror_mode": {
    "name": "ipython",
    "version": 3
   },
   "file_extension": ".py",
   "mimetype": "text/x-python",
   "name": "python",
   "nbconvert_exporter": "python",
   "pygments_lexer": "ipython3",
   "version": "3.10.12"
  },
  "orig_nbformat": 4
 },
 "nbformat": 4,
 "nbformat_minor": 2
}
