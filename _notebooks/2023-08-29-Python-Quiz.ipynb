{
 "cells": [
  {
   "cell_type": "markdown",
   "metadata": {},
   "source": [
    "---\n",
    "toc: true\n",
    "comments: true\n",
    "layout: post\n",
    "title: Python Quiz\n",
    "description: Python quiz\n",
    "courses: { csp: {week: 2} }\n",
    "type: hacks\n",
    "---"
   ]
  },
  {
   "cell_type": "code",
   "execution_count": 13,
   "metadata": {},
   "outputs": [
    {
     "name": "stdout",
     "output_type": "stream",
     "text": [
      "Hello, dslee187 running /bin/python\n",
      "You will be asked 3 questions.\n",
      "Question: Are you ready to take a test?\n",
      "Question: What command is used to include other functions that were previously developed?\n",
      "import is correct!\n",
      "Question: What command is used to evaluate correct or incorrect response in this example?\n",
      "if is correct!\n",
      "Question: Each 'if' command contains an '_________' to determine a true or false condition?\n",
      "expression is correct!\n",
      "dslee187 you scored 3/3\n"
     ]
    }
   ],
   "source": [
    "import getpass, sys\n",
    "\n",
    "def question_with_response(prompt, answer):\n",
    "    print(\"Question:\", prompt)\n",
    "    msg = input()\n",
    "    return msg == answer\n",
    "\n",
    "questions = [\n",
    "    (\"What command is used to include other functions that were previously developed?\", \"import\"),\n",
    "    (\"What command is used to evaluate correct or incorrect response in this example?\", \"if\"),\n",
    "    (\"Each 'if' command contains an '_________' to determine a true or false condition?\", \"expression\")\n",
    "]\n",
    "\n",
    "correct = 0\n",
    "\n",
    "print(f'Hello, {getpass.getuser()} running {sys.executable}')\n",
    "print(f'You will be asked {len(questions)} questions.')\n",
    "question_with_response(\"Are you ready to take a test?\", \"yes\")\n",
    "\n",
    "for prompt, answer in questions:\n",
    "    if question_with_response(prompt, answer):\n",
    "        print(f'{answer} is correct!')\n",
    "        correct += 1\n",
    "    else:\n",
    "        print(f'{answer} is incorrect!')\n",
    "\n",
    "print(f'{getpass.getuser()} you scored {correct}/{len(questions)}')\n",
    "\n",
    "\n"
   ]
  }
 ],
 "metadata": {
  "kernelspec": {
   "display_name": "Python 3",
   "language": "python",
   "name": "python3"
  },
  "language_info": {
   "codemirror_mode": {
    "name": "ipython",
    "version": 3
   },
   "file_extension": ".py",
   "mimetype": "text/x-python",
   "name": "python",
   "nbconvert_exporter": "python",
   "pygments_lexer": "ipython3",
   "version": "3.10.12"
  },
  "orig_nbformat": 4
 },
 "nbformat": 4,
 "nbformat_minor": 2
}
