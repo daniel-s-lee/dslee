{
 "cells": [
  {
   "cell_type": "markdown",
   "metadata": {},
   "source": [
    "--- \n",
    "toc: True\n",
    "comments: True\n",
    "layout: post\n",
    "title: Week 3 Live Review Ticket\n",
    "description: \n",
    "courses: {'csp': {'week': 3}}\n",
    "type: tangibles\n",
    "---"
   ]
  },
  {
   "cell_type": "markdown",
   "metadata": {},
   "source": [
    "## Live Review Ticket\n",
    "A series of things that I have done in order to prepare myslef timely for the Pair Showcase and going through each specific problems, accomlishments, and goals throughout the first three weeks of CSP. \n",
    "\n",
    "### Plans\n",
    "I made plans for each week of CSP so that it's easier for me to stay on task, know what I'm supposed to be doing throughout the week, and make it easier to catch up to any work I might have fell behind on. It also allows me to make sure I have everything that's supposed to completed on time. Each of the plans can be found in my Time Box and all of them are filled with my specific plans for that week. \n",
    "\n",
    "\n",
    "### Linux and Interaction in VScode\n",
    "I made a blog with some of the common Linux commands that I will be using throughout the class. This blog will help me in the future so I can look back and assure that I am using the commands accurately. This blog will also serve as a log that I can look back on next trimester. This blog also answers whether there are commands we use to verify tools we install, review versions, how to update a repository, and if we use the git command line. \n",
    "\n",
    "### Python and Interaction in VScode\n",
    "Below are the examples of Python in my VScode\n",
    "\n",
    "#### Python Snake Game\n",
    "In my Time Box I have a link to the classic snake game, coded entirely with Python. At first the code made it so that the snake and the food the snake eats is the same color, white, but I changed the ode so that only the red would turn red. Making it much easier to differentiate the snake's body to the food. \n",
    "\n",
    "### Web Interactions in Javascript\n",
    "\n",
    "### Chat GPT Review\n",
    "\n",
    "### Feedback from Others\n",
    "\n",
    "\n"
   ]
  }
 ],
 "metadata": {
  "language_info": {
   "name": "python"
  },
  "orig_nbformat": 4
 },
 "nbformat": 4,
 "nbformat_minor": 2
}
