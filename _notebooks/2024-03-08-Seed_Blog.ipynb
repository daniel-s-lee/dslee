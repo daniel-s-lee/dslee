{
 "cells": [
  {
   "cell_type": "markdown",
   "metadata": {},
   "source": [
    "## Key Commits\n",
    "\n",
    "Individual:\n",
    "\n",
    "Individual Login Page\n",
    "- https://github.com/daniel-s-lee/dslee/commit/209630c709e9a22f71c5854ff74af78a536d461b\n",
    "\n",
    "Project:\n",
    "\n",
    "Link to issue: \n",
    "https://github.com/daniel-s-lee/dslee/issues/4#issue-2155591881\n",
    "\n",
    "Layout of project webpage fixes and commite\n",
    "- https://github.com/ninaadkiran/tingarepo-frontend/commit/b6b1636b2fc84492cd4cc4b27220247d782ad70c\n",
    "\n",
    "Finished Game for Prject\n",
    "- https://github.com/ninaadkiran/tingarepo-frontend/commit/f6d491dea0ac4046453105880545cd8e57ec63f4\n",
    "\n",
    "Theme and Making our webpage look good\n",
    "- https://github.com/ninaadkiran/group-frontend/commit/86b59c3aadac0583d8b834f3aa71c860c1d19854"
   ]
  },
  {
   "cell_type": "markdown",
   "metadata": {},
   "source": []
  },
  {
   "cell_type": "markdown",
   "metadata": {},
   "source": []
  }
 ],
 "metadata": {
  "language_info": {
   "name": "python"
  }
 },
 "nbformat": 4,
 "nbformat_minor": 2
}
