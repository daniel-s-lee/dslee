{
 "cells": [
  {
   "cell_type": "markdown",
   "metadata": {},
   "source": [
    "## Key Commits\n",
    "\n",
    "Individual:\n",
    "\n",
    "Individual Login Page\n",
    "- https://github.com/daniel-s-lee/dslee/commit/209630c709e9a22f71c5854ff74af78a536d461b\n",
    "\n",
    "Project:\n",
    "\n",
    "Link to issue: \n",
    "https://github.com/daniel-s-lee/dslee/issues/4#issue-2155591881\n",
    "\n",
    "Layout of project webpage fixes and commite\n",
    "- https://github.com/ninaadkiran/tingarepo-frontend/commit/b6b1636b2fc84492cd4cc4b27220247d782ad70c\n",
    "\n",
    "Finished Game for Prject\n",
    "- https://github.com/ninaadkiran/tingarepo-frontend/commit/f6d491dea0ac4046453105880545cd8e57ec63f4\n",
    "\n",
    "Theme and Making our webpage look good\n",
    "- https://github.com/ninaadkiran/group-frontend/commit/86b59c3aadac0583d8b834f3aa71c860c1d19854"
   ]
  },
  {
   "cell_type": "markdown",
   "metadata": {},
   "source": [
    "## College Board MCQ\n",
    "\n",
    "### Questions I Got Wrong\n",
    "Question 8: Metadata About Photos\n",
    "I got thiquestion wrong because I misunderstood the data provided. I thought that the data would be able to provide the anme of the person that took the most recent photo however, it the data provided would not be able to. So the correct answer was the the data could only provide the particular geographic location and and the number of photos that were taken in the last year. \n",
    "\n",
    "Question 24: Compression by replacing TH and IS with Characters\n",
    "I got this question wrong because I didn't understand why Byte pair encoding is an example of lossless transformation. Specifically what lossless transformation is. Orginally, I my answer said that byte pair encoding is a lossless transformation because it could be used to transmit imformation securely but now I understand that it's because the encoded string could be reverted back to the original form by replacing the symbols with TH or IS. \n",
    "\n",
    "Question 25: Shortening string by replacing TH and IS\n",
    "I got this question wrong because I still didn't understand that byte pair encoding is. Byte pair encoding is only possible when a pair of characters show up more than once. So the answer I chose (BANANA) was wrong because the character pair AN could be replaced with a symbol like \"*\" to shorten it. So my answer was wrong and the correct answer was LEVEL_UP because this word is not able to be shortened because a pair of character don't repeat more than once. \n",
    "\n",
    "Question 29: Diagram with Three Logic Gates\n",
    "I got this question wrong because I didn't have a full understanding of how logic gates worked. I didn't understand what type of output the AND and OR gates would produce. After some research on how Logic gates worked, I learned that the the correct answer is correct because the AND gate would produce false, and the first OR gate would also produce false. Because both the outputs in the second OR gate would be false, the circuit will have an output of false. \n",
    "\n",
    "Question 64: Cloud Computing and the Internet\n",
    "I got one out of two of the correct answers for this question. The one I got wrong is wrong because cloud computing did not affect internet communication by eliminating the need to provide redundancy in Internet routing. Redundant routing provides false tolerance, which enables a cloud storage site to continue to operateif some part of the network fails. So this answer is wrong. The correct answer is correct because cloud computing sites must consider security concerns in order to protect their users' private data. So cloud computing has affected Internet communication because cloud computing has introduced new data security concerns. "
   ]
  }
 ],
 "metadata": {
  "language_info": {
   "name": "python"
  }
 },
 "nbformat": 4,
 "nbformat_minor": 2
}
