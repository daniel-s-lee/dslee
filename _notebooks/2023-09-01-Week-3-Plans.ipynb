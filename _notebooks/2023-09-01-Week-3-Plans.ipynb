{
 "cells": [
  {
   "attachments": {},
   "cell_type": "markdown",
   "metadata": {},
   "source": [
    "---\n",
    "toc: true\n",
    "comments: true\n",
    "layout: post\n",
    "title: Week 3 Plans\n",
    "description: My plans and goals for the thrid week of CSP\n",
    "courses: { csp: {week: 3} }\n",
    "type: plans\n",
    "---"
   ]
  },
  {
   "attachments": {},
   "cell_type": "markdown",
   "metadata": {},
   "source": [
    "## Week 3 Plans and Goals\n",
    ">>Monday: I going to start adding and customizing my github page. This would mean I finally change the theme of my website, I add more notebooks and add more advanced elements into my github website. Also start preparing for the live review from wednesday to friday by looking at the requirments and making sure I have all of them in my website. \n",
    ">>Tuesday: Looking to add a project somewhere in my website like a game or a calculator. I will continue to add to my blog and Jupyter Notebook rows and columns. Continue work for the live review. \n",
    ">>Wednesday: Possibly presenting for the live review. If not, I will spend most of the time making sure that I have met all the requirements for the live review and looking to add more advanced or extra things in order to go above and beyond. \n",
    ">>Thursday: Most likely will be presenting on this day and hopefully by then I would have made all required changes and additions to my github website. Seeking to get higher than 1.8 points this time. \n",
    ">>Friday: If I didn't present wednesday or thursday, I would have presented on this day. Hope fully would have reached my goal of earning a higher score. After presenting, I will continue to lookf for changes and imporvements I can make to my github page and start preparing for whatever we have to do in the next week. \n"
   ]
  },
  {
   "attachments": {},
   "cell_type": "markdown",
   "metadata": {},
   "source": []
  }
 ],
 "metadata": {
  "kernelspec": {
   "display_name": "base",
   "language": "python",
   "name": "python3"
  },
  "language_info": {
   "codemirror_mode": {
    "name": "ipython",
    "version": 3
   },
   "file_extension": ".py",
   "mimetype": "text/x-python",
   "name": "python",
   "nbconvert_exporter": "python",
   "pygments_lexer": "ipython3",
   "version": "3.10.12"
  },
  "orig_nbformat": 4
 },
 "nbformat": 4,
 "nbformat_minor": 2
}
