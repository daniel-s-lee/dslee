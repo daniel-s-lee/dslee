{
 "cells": [
  {
   "attachments": {},
   "cell_type": "markdown",
   "metadata": {},
   "source": [
    "---\n",
    "toc: true\n",
    "comments: true\n",
    "layout: post\n",
    "title: Week 3 Plans\n",
    "description: My plans and goals for the thrid week of CSP\n",
    "courses: { csp: {week: 3} }\n",
    "type: plans\n",
    "---"
   ]
  },
  {
   "attachments": {},
   "cell_type": "markdown",
   "metadata": {},
   "source": [
    "## Week 3 Plans and Goals\n",
    ">>Monday: There isn't school on this day but I will take time to start preparing for the Pair Showcase later that week. I will review Linux Shell and Bash because me and my group did not talk about it in our last Tech Talk. I will read over the blog that the teacher posted and follow all of the requirements such as creating blog notes about the Linux commands. \n",
    "\n",
    ">>Tuesday: I will look to get feedback on my github pages from a different pair in the classroom so that they can review my notebooks such as my python snake game, my JS table, and my weekly plans. They will review my work and with their feedback I will look to make changes according to what they said. \n",
    "\n",
    ">>Wednesday: I started making the changes to what I got feeback on. I edited the snake game so that it turns only the food red and not the snake. Having both white was a problem because sometimes it was hard to tell the food and the snake's body apart. I will start making changes to the linux shell and bash page that it would meet the requirements of talking about the common commands I use and answering the questions in the hacks. \n",
    "\n",
    ">>Thursday: \n",
    "\n",
    ">>Friday: \n"
   ]
  },
  {
   "attachments": {},
   "cell_type": "markdown",
   "metadata": {},
   "source": []
  }
 ],
 "metadata": {
  "kernelspec": {
   "display_name": "base",
   "language": "python",
   "name": "python3"
  },
  "language_info": {
   "codemirror_mode": {
    "name": "ipython",
    "version": 3
   },
   "file_extension": ".py",
   "mimetype": "text/x-python",
   "name": "python",
   "nbconvert_exporter": "python",
   "pygments_lexer": "ipython3",
   "version": "3.10.12"
  },
  "orig_nbformat": 4
 },
 "nbformat": 4,
 "nbformat_minor": 2
}
