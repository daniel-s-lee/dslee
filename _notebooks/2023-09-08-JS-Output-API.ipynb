{
 "cells": [
  {
   "cell_type": "markdown",
   "metadata": {},
   "source": [
    "---\n",
    "toc: true\n",
    "comments: true\n",
    "layout: post\n",
    "title: JS Output with API\n",
    "description: Application of what I learned about JS outputs using objects\n",
    "courses: { csp: {week: 3} }\n",
    "type: hacks\n",
    "---"
   ]
  },
  {
   "cell_type": "code",
   "execution_count": null,
   "metadata": {},
   "outputs": [
    {
     "data": {
      "text/html": [
       "<html>\n",
       "<head>\n",
       "    <!-- Load jQuery and DataTables styles and scripts -->\n",
       "    <link rel=\"stylesheet\" type=\"text/css\" href=\"https://cdn.datatables.net/1.13.4/css/jquery.dataTables.min.css\">\n",
       "    <script type=\"text/javascript\" language=\"javascript\" src=\"https://code.jquery.com/jquery-3.6.0.min.js\"></script>\n",
       "    <script type=\"text/javascript\" language=\"javascript\" src=\"https://cdn.datatables.net/1.13.4/js/jquery.dataTables.min.js\"></script>\n",
       "</head>\n",
       "<body>\n",
       "<table id=\"coffeeTable\" class=\"table\" style=\"width:100%\">\n",
       "    <thead>\n",
       "        <tr>\n",
       "            <th>Title</th>\n",
       "            <th>Description</th>\n",
       "            <th>Ingredients</th>\n",
       "            <th>Image</th>\n",
       "        </tr>\n",
       "    </thead>\n",
       "    <tbody id=\"coffeeBody\"></tbody>\n",
       "</table>\n",
       "\n",
       "<script>\n",
       "  $(document).ready(function() {\n",
       "    fetch('https://api.sampleapis.com/coffee/hot', { mode: 'cors' })\n",
       "    .then(response => {\n",
       "      if (!response.ok) {\n",
       "        throw new Error('API response failed');\n",
       "      }\n",
       "      return response.json();\n",
       "    })\n",
       "    .then(data => {\n",
       "      for (const coffee of data) {\n",
       "        // Populate the table with coffee data\n",
       "        $('#coffeeBody').append('<tr><td>' + \n",
       "            coffee.title + '</td><td>' + \n",
       "            coffee.description + '</td><td>' + \n",
       "            coffee.ingredients.join(', ') + '</td><td>' + \n",
       "            '<img src=\"' + coffee.image + '\" alt=\"' + coffee.title + '\" height=\"100\"></td></tr>');\n",
       "      }\n",
       "      // Initialize DataTables for the table\n",
       "      $(\"#coffeeTable\").DataTable();\n",
       "    })\n",
       "    .catch(error => {\n",
       "      console.error('Error:', error);\n",
       "    });\n",
       "  });\n",
       "</script>\n",
       "</body>\n",
       "</html>\n"
      ],
      "text/plain": [
       "<IPython.core.display.HTML object>"
      ]
     },
     "metadata": {},
     "output_type": "display_data"
    }
   ],
   "source": [
    "%%html\n",
    "<html>\n",
    "<head>\n",
    "    <!-- Load jQuery and DataTables styles and scripts -->\n",
    "    <link rel=\"stylesheet\" type=\"text/css\" href=\"https://cdn.datatables.net/1.13.4/css/jquery.dataTables.min.css\">\n",
    "    <script type=\"text/javascript\" language=\"javascript\" src=\"https://code.jquery.com/jquery-3.6.0.min.js\"></script>\n",
    "    <script type=\"text/javascript\" language=\"javascript\" src=\"https://cdn.datatables.net/1.13.4/js/jquery.dataTables.min.js\"></script>\n",
    "</head>\n",
    "<body>\n",
    "<table id=\"coffeeTable\" class=\"table\" style=\"width:100%\">\n",
    "    <thead>\n",
    "        <tr>\n",
    "            <th>Title</th>\n",
    "            <th>Description</th>\n",
    "            <th>Ingredients</th>\n",
    "            <th>Image</th>\n",
    "        </tr>\n",
    "    </thead>\n",
    "    <tbody id=\"coffeeBody\"></tbody>\n",
    "</table>\n",
    "\n",
    "<script>\n",
    "  $(document).ready(function() {\n",
    "    fetch('https://api.sampleapis.com/coffee/hot', { mode: 'cors' })\n",
    "    .then(response => {\n",
    "      if (!response.ok) {\n",
    "        throw new Error('API response failed');\n",
    "      }\n",
    "      return response.json();\n",
    "    })\n",
    "    .then(data => {\n",
    "      for (const coffee of data) {\n",
    "        // Populate the table with coffee data\n",
    "        $('#coffeeBody').append('<tr><td>' + \n",
    "            coffee.title + '</td><td>' + \n",
    "            coffee.description + '</td><td>' + \n",
    "            coffee.ingredients.join(', ') + '</td><td>' + \n",
    "            '<img src=\"' + coffee.image + '\" alt=\"' + coffee.title + '\" height=\"100\"></td></tr>');\n",
    "      }\n",
    "      // Initialize DataTables for the table\n",
    "      $(\"#coffeeTable\").DataTable();\n",
    "    })\n",
    "    .catch(error => {\n",
    "      console.error('Error:', error);\n",
    "    });\n",
    "  });\n",
    "</script>\n",
    "</body>\n",
    "</html>\n"
   ]
  }
 ],
 "metadata": {
  "kernelspec": {
   "display_name": "Python 3",
   "language": "python",
   "name": "python3"
  },
  "language_info": {
   "codemirror_mode": {
    "name": "ipython",
    "version": 3
   },
   "file_extension": ".py",
   "mimetype": "text/x-python",
   "name": "python",
   "nbconvert_exporter": "python",
   "pygments_lexer": "ipython3",
   "version": "3.10.12"
  },
  "orig_nbformat": 4
 },
 "nbformat": 4,
 "nbformat_minor": 2
}
