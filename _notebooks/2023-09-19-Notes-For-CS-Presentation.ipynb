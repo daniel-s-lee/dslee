{
 "cells": [
  {
   "cell_type": "markdown",
   "metadata": {},
   "source": [
    "--- \n",
    "toc: True\n",
    "comments: True\n",
    "layout: post\n",
    "title: CS Presentation Notes\n",
    "description: \n",
    "courses: {'csp': {'week': 4}}\n",
    "type: tangibles\n",
    "---"
   ]
  },
  {
   "cell_type": "markdown",
   "metadata": {},
   "source": [
    "# Take Aways\n",
    "## College Applications and preperations\n",
    "- Consider if its a lottery or not, at UCSD it's a lottery. Also very hard to switch into CS at UCSD because it is a lottery.\n",
    "- When applying for CS, try to do as many applications as possible to try and get into as many as possible. Luck is still a factor. Where you get into doesn't matter as much, just focus on getting into a program.\n",
    "- Trying to do cognitive science is also a choice. It also has more diverse classes such as psychology. \n",
    "- Any extra cirrucluar that shows committment to coding, teaching is good because it shows you have understanding of coding. Doing something for the community is overall very good and something you can talk about on college apps. Do Projects\n",
    "- Take leadership opportunities\n",
    "- When doing projects, don't just show what you did how that applies to other things and how it impacts other people.\n",
    "\n",
    "## Interships Experiences\n",
    "- Take time on your own to build and code projects. You can show these projects to companies so that you can get an internship. Shows that you know how to build projects and how to apply them. \n",
    "- Having something tangible and something to show for helps employers know. Having everything in one repository is also a good resource. \n",
    "- Find a website or company that you're interested in and find something that they have already done and try to improve it yourself. You don't even need to make an entire new app or anyhting, just explain why you decided to change it and why you're interested in that company. \n",
    "- See if you can build something that you enjoy messing with. You can use information from those projects and apply them into other projects. \n",
    "- For online assesments, you need to do a lot leet code. If you don't get 100% on those assessments, you're already out of the running for internships. Coding assessments are also the main way companies pick software engineers. \n",
    "Leet code can suck out the joy of coding so it's good to also start small and do things that you enjoy along the way. \n",
    "\n",
    "## Personal Projects\n",
    "- VERCEL: deployment tool (makes making projects much easier)\n",
    "- SVELKIT\n",
    "- Have a personal website (You can put this anywhere and put it as a project as well)\n",
    "Learn the tools\n",
    "\n",
    "## Q&A Session\n",
    "- Hyperlfex: Youtube channel with good redesigns\n",
    "- There are classes offered for machine learning\n",
    "- Don't rely on ChatGPT because it isn't always super reliable \n",
    "- You can add sketches, show that you're human, if your treating like a porfolio you can add things about what you learned and what you would change if you would do the project again. \n",
    "- You want to make a Linked in profile, you can also just go out to your communnity (easier to get a job when someone recommends you), \n",
    "\n",
    "\n",
    "# Reflection\n",
    "Based off of what I haerd in this presentation, I learned a lot about what I should do in order to prepare for a career in computer science. For example, it's really good to get internships and more experience such as teaching code in order to show companies that you both understand and are capable of coding, building, and applying. These experiences are also very good to put on college resumes. I also learned that majoring in computer science isn't the only way to work with coding: multiple majors use coding and I was surprised at how much code is used for non-computer science majors. I think that from moving forward I should start working on more personal projects and developing a personal website to show off what I've done and to start learning about more tools such as leet code."
   ]
  }
 ],
 "metadata": {
  "language_info": {
   "name": "python"
  },
  "orig_nbformat": 4
 },
 "nbformat": 4,
 "nbformat_minor": 2
}
