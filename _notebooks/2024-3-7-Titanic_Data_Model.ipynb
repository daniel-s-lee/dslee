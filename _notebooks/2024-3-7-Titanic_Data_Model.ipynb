{
 "cells": [
  {
   "cell_type": "code",
   "execution_count": null,
   "metadata": {},
   "outputs": [],
   "source": [
    "from sklearn.tree import DecisionTreeClassifier\n",
    "from sklearn.linear_model import LogisticRegression\n",
    "from sklearn.metrics import accuracy_score\n",
    "from sklearn.model_selection import train_test_split\n",
    "from sklearn.preprocessing import OneHotEncoder\n",
    "import pandas as pd\n",
    "import seaborn as sns\n",
    "\n",
    "# Define the TitanicRegression global variable\n",
    "titanic_regression = None\n",
    "\n",
    "# Define the TitanicRegression class\n",
    "class TitanicRegression:\n",
    "    def __init__(self):\n",
    "        self.dt = None\n",
    "        self.logreg = None\n",
    "        self.X_train = None\n",
    "        self.X_test = None\n",
    "        self.y_train = None\n",
    "        self.y_test = None\n",
    "        self.encoder = None\n",
    "\n",
    "    def initTitanic(self):\n",
    "        titanic_data = sns.load_dataset('titanic')\n",
    "        # clean data\n",
    "\n",
    "\n",
    "    def runDecisionTree(self):\n",
    "        # more code here\n",
    "\n",
    "    def runLogisticRegression(self):\n",
    "        # more code here\n",
    "\n",
    "def initTitanic():\n",
    "    global titanic_regression\n",
    "    titanic_regression = TitanicRegression()\n",
    "    titanic_regression.initTitanic()\n",
    "\n",
    "# From API\n",
    "def predictSurvival(passenger):\n",
    "    # more code here\n",
    "    # interact with \n",
    "    return predict\n",
    "\n",
    "\n",
    "# Sample usage without API\n",
    "if __name__ == \"__main__\":\n",
    "    # Initialize the Titanic model\n",
    "    initTitanic()"
   ]
  }
 ],
 "metadata": {
  "kernelspec": {
   "display_name": "Python 3",
   "language": "python",
   "name": "python3"
  },
  "language_info": {
   "codemirror_mode": {
    "name": "ipython",
    "version": 3
   },
   "file_extension": ".py",
   "mimetype": "text/x-python",
   "name": "python",
   "nbconvert_exporter": "python",
   "pygments_lexer": "ipython3",
   "version": "3.10.12"
  }
 },
 "nbformat": 4,
 "nbformat_minor": 2
}
